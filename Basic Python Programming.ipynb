{
 "cells": [
  {
   "cell_type": "markdown",
   "id": "fe2cf09a",
   "metadata": {},
   "source": [
    "# Experiment 1: Basic Python Programming"
   ]
  },
  {
   "cell_type": "markdown",
   "id": "d6804597",
   "metadata": {},
   "source": [
    "**Task 1: String Manipulation**\n",
    "\n",
    "Write a Python program that performs the following operations on a given string:\n",
    "1. Convert the string to uppercase.\n",
    "2. Find the length of the string.\n",
    "3. Replace a specified substring with another substring.\n",
    "4. Split the string into a list of words."
   ]
  },
  {
   "cell_type": "code",
   "execution_count": 6,
   "id": "f25f92a0",
   "metadata": {},
   "outputs": [
    {
     "name": "stdout",
     "output_type": "stream",
     "text": [
      "Hello, welcome to the world of Python programming!\n"
     ]
    }
   ],
   "source": [
    "# Given string\n",
    "text = \"Hello, welcome to the world of Python programming!\"\n",
    "print(text)"
   ]
  },
  {
   "cell_type": "code",
   "execution_count": 7,
   "id": "2313f1d0",
   "metadata": {},
   "outputs": [
    {
     "name": "stdout",
     "output_type": "stream",
     "text": [
      "Uppercase: HELLO, WELCOME TO THE WORLD OF PYTHON PROGRAMMING!\n"
     ]
    }
   ],
   "source": [
    "# Convert to uppercase\n",
    "upper_text = text.upper()\n",
    "print(\"Uppercase:\", upper_text)"
   ]
  },
  {
   "cell_type": "code",
   "execution_count": 8,
   "id": "6cdf4246",
   "metadata": {},
   "outputs": [
    {
     "name": "stdout",
     "output_type": "stream",
     "text": [
      "Length: 50\n"
     ]
    }
   ],
   "source": [
    "# Find the length of the string\n",
    "length = len(text)\n",
    "print(\"Length:\", length)"
   ]
  },
  {
   "cell_type": "code",
   "execution_count": 9,
   "id": "b1e2d752",
   "metadata": {},
   "outputs": [
    {
     "name": "stdout",
     "output_type": "stream",
     "text": [
      "Replaced Text: Hello, welcome to the world of AI/ML programming!\n"
     ]
    }
   ],
   "source": [
    "# Replace a substring\n",
    "replaced_text = text.replace(\"Python\", \"AI/ML\")\n",
    "print(\"Replaced Text:\", replaced_text)"
   ]
  },
  {
   "cell_type": "code",
   "execution_count": 5,
   "id": "055b4c30",
   "metadata": {},
   "outputs": [
    {
     "name": "stdout",
     "output_type": "stream",
     "text": [
      "List of Words: ['Hello,', 'welcome', 'to', 'the', 'world', 'of', 'Python', 'programming!']\n"
     ]
    }
   ],
   "source": [
    "# Split the string into a list of words\n",
    "words = text.split()\n",
    "print(\"List of Words:\", words)"
   ]
  },
  {
   "cell_type": "markdown",
   "id": "9a2d5044",
   "metadata": {},
   "source": [
    "---"
   ]
  },
  {
   "cell_type": "markdown",
   "id": "6a211bec",
   "metadata": {},
   "source": [
    "**Task 2: List Manipulation**\n",
    "\n",
    "Write a Python program that performs the following operations on a given list:\n",
    "\n",
    "1. Add a new element to the list.\n",
    "2. Remove an element from the list.\n",
    "3. Sort the list in ascending order.\n",
    "4. Find the maximum and minimum values in the list."
   ]
  },
  {
   "cell_type": "code",
   "execution_count": 10,
   "id": "76ee29af",
   "metadata": {},
   "outputs": [
    {
     "name": "stdout",
     "output_type": "stream",
     "text": [
      "[5, 3, 8, 1, 2]\n"
     ]
    }
   ],
   "source": [
    "# Given list\n",
    "numbers = [5, 3, 8, 1, 2]\n",
    "print(numbers)"
   ]
  },
  {
   "cell_type": "code",
   "execution_count": 11,
   "id": "918c2f65",
   "metadata": {},
   "outputs": [
    {
     "name": "stdout",
     "output_type": "stream",
     "text": [
      "After Adding 10: [5, 3, 8, 1, 2, 10]\n"
     ]
    }
   ],
   "source": [
    "# Add a new element\n",
    "numbers.append(10)\n",
    "print(\"After Adding 10:\", numbers)"
   ]
  },
  {
   "cell_type": "code",
   "execution_count": 12,
   "id": "e378a9ed",
   "metadata": {},
   "outputs": [
    {
     "name": "stdout",
     "output_type": "stream",
     "text": [
      "After Removing 3: [5, 8, 1, 2, 10]\n"
     ]
    }
   ],
   "source": [
    "# Remove an element\n",
    "numbers.remove(3)\n",
    "print(\"After Removing 3:\", numbers)"
   ]
  },
  {
   "cell_type": "code",
   "execution_count": 13,
   "id": "aa4db9ae",
   "metadata": {},
   "outputs": [
    {
     "name": "stdout",
     "output_type": "stream",
     "text": [
      "Sorted List: [1, 2, 5, 8, 10]\n"
     ]
    }
   ],
   "source": [
    "# Sort the list\n",
    "numbers.sort()\n",
    "print(\"Sorted List:\", numbers)"
   ]
  },
  {
   "cell_type": "code",
   "execution_count": 14,
   "id": "b7f6b49d",
   "metadata": {},
   "outputs": [
    {
     "name": "stdout",
     "output_type": "stream",
     "text": [
      "Max Value: 10\n",
      "Min Value: 1\n"
     ]
    }
   ],
   "source": [
    "# Find maximum and minimum values\n",
    "max_value = max(numbers)\n",
    "min_value = min(numbers)\n",
    "print(\"Max Value:\", max_value)\n",
    "print(\"Min Value:\", min_value)"
   ]
  },
  {
   "cell_type": "markdown",
   "id": "3c827485",
   "metadata": {},
   "source": [
    "---"
   ]
  },
  {
   "cell_type": "markdown",
   "id": "cfb3ebe4",
   "metadata": {},
   "source": [
    "**Task 3: Dictionary Manipulation**\n",
    "\n",
    "Write a Python program that performs the following operations on a given dictionary:\n",
    "\n",
    "1. Add a new key-value pair.\n",
    "2. Update an existing value.\n",
    "3. Delete a key-value pair.\n",
    "4. Iterate over the dictionary and print all keys and values."
   ]
  },
  {
   "cell_type": "code",
   "execution_count": 20,
   "id": "0f93bb64",
   "metadata": {},
   "outputs": [
    {
     "name": "stdout",
     "output_type": "stream",
     "text": [
      "{'name': 'Anuradha', 'age': 19, 'major': 'Computer Science'}\n"
     ]
    }
   ],
   "source": [
    "# Given dictionary\n",
    "student = {\"name\": \"Anuradha\", \"age\": 19, \"major\": \"Computer Science\"}\n",
    "print(student)"
   ]
  },
  {
   "cell_type": "code",
   "execution_count": 21,
   "id": "6a5219d6",
   "metadata": {},
   "outputs": [
    {
     "name": "stdout",
     "output_type": "stream",
     "text": [
      "After Adding CGPA: {'name': 'Anuradha', 'age': 19, 'major': 'Computer Science', 'CGPA': 8.5}\n"
     ]
    }
   ],
   "source": [
    "# Add a new key-value pair\n",
    "student[\"CGPA\"] = 8.5\n",
    "print(\"After Adding CGPA:\", student)"
   ]
  },
  {
   "cell_type": "code",
   "execution_count": 22,
   "id": "5c14065a",
   "metadata": {},
   "outputs": [
    {
     "name": "stdout",
     "output_type": "stream",
     "text": [
      "After Updating Age: {'name': 'Anuradha', 'age': 21, 'major': 'Computer Science', 'CGPA': 8.5}\n"
     ]
    }
   ],
   "source": [
    "# Update an existing value\n",
    "student[\"age\"] = 21\n",
    "print(\"After Updating Age:\", student)"
   ]
  },
  {
   "cell_type": "code",
   "execution_count": 23,
   "id": "44bc1f1f",
   "metadata": {},
   "outputs": [
    {
     "name": "stdout",
     "output_type": "stream",
     "text": [
      "After Deleting Major: {'name': 'Anuradha', 'age': 21, 'CGPA': 8.5}\n"
     ]
    }
   ],
   "source": [
    "# Delete a key-value pair\n",
    "del student[\"major\"]\n",
    "print(\"After Deleting Major:\", student)"
   ]
  },
  {
   "cell_type": "code",
   "execution_count": 24,
   "id": "c885718d",
   "metadata": {},
   "outputs": [
    {
     "name": "stdout",
     "output_type": "stream",
     "text": [
      "Dictionary Items:\n",
      "name: Anuradha\n",
      "age: 21\n",
      "CGPA: 8.5\n"
     ]
    }
   ],
   "source": [
    "# Iterate over the dictionary\n",
    "print(\"Dictionary Items:\")\n",
    "for key, value in student.items():\n",
    "    print(f\"{key}: {value}\")\n",
    "    "
   ]
  },
  {
   "cell_type": "markdown",
   "id": "5190adda",
   "metadata": {},
   "source": [
    "---"
   ]
  },
  {
   "cell_type": "markdown",
   "id": "a5f324cd",
   "metadata": {},
   "source": [
    "**Task 4: Control Structures**\n",
    "\n",
    "Write a Python program that uses loops and conditional statements to print all even numbers from 1 to 20."
   ]
  },
  {
   "cell_type": "code",
   "execution_count": 26,
   "id": "8428769e",
   "metadata": {},
   "outputs": [
    {
     "name": "stdout",
     "output_type": "stream",
     "text": [
      "2\n",
      "4\n",
      "6\n",
      "8\n",
      "10\n",
      "12\n",
      "14\n",
      "16\n",
      "18\n",
      "20\n"
     ]
    }
   ],
   "source": [
    "# Loop through numbers from 1 to 20\n",
    "# Let's use a \"FOR\" loop\n",
    "\n",
    "for i in range(1, 21):\n",
    "    # Check if the number is even\n",
    "    if i % 2 == 0:\n",
    "        print(i)\n"
   ]
  },
  {
   "cell_type": "code",
   "execution_count": null,
   "id": "c0a53b81",
   "metadata": {},
   "outputs": [],
   "source": []
  }
 ],
 "metadata": {
  "kernelspec": {
   "display_name": "Python 3",
   "language": "python",
   "name": "python3"
  },
  "language_info": {
   "codemirror_mode": {
    "name": "ipython",
    "version": 3
   },
   "file_extension": ".py",
   "mimetype": "text/x-python",
   "name": "python",
   "nbconvert_exporter": "python",
   "pygments_lexer": "ipython3",
   "version": "3.8.8"
  }
 },
 "nbformat": 4,
 "nbformat_minor": 5
}
